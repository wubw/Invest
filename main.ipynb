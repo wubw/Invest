{
 "cells": [
  {
   "cell_type": "code",
   "execution_count": null,
   "metadata": {},
   "outputs": [],
   "source": [
    "pip install pandas_datareader"
   ]
  },
  {
   "cell_type": "code",
   "execution_count": null,
   "metadata": {},
   "outputs": [],
   "source": [
    "%load_ext autoreload\n",
    "%autoreload 2\n",
    "\n",
    "import stock_portfolio as sp\n",
    "len(sp.stickers)"
   ]
  },
  {
   "cell_type": "code",
   "execution_count": null,
   "metadata": {},
   "outputs": [],
   "source": [
    "#sp.fetch_all_price()\n",
    "sp.fetch_price('D05.SI')"
   ]
  },
  {
   "cell_type": "code",
   "execution_count": null,
   "metadata": {},
   "outputs": [],
   "source": [
    "p = sp.get_price('0700.HK')\n",
    "print(p)"
   ]
  },
  {
   "cell_type": "code",
   "execution_count": null,
   "metadata": {},
   "outputs": [],
   "source": [
    "ledger = sp.get_ledger()\n",
    "ledger"
   ]
  },
  {
   "cell_type": "code",
   "execution_count": null,
   "metadata": {},
   "outputs": [],
   "source": [
    "import pandas as pd\n",
    "\n",
    "pd.options.display.float_format = '{:,.2f}'.format\n",
    "\n",
    "ledger['cost'] = ledger['quantity']*ledger['price']+ledger['commission']\n",
    "\n",
    "buy_ledger = ledger[ledger['type']=='buy']\n",
    "sell_ledger = ledger[ledger['type']=='sell']\n",
    "buy_quantity = buy_ledger.groupby(['tick'])['quantity'].sum()\n",
    "sell_quantity = sell_ledger.groupby(['tick'])['quantity'].sum()\n",
    "\n",
    "positions = pd.DataFrame(data=(buy_quantity.sub(sell_quantity, fill_value=0).fillna(0)))\n",
    "positions['cost'] =buy_ledger.groupby(['tick'])['cost'].sum()\n",
    "positions['avg price'] = positions['cost']/buy_quantity\n",
    "\n",
    "positions['currency'] = 'USD'\n",
    "positions['last price'] = 0\n",
    "for index, row in positions.iterrows():\n",
    "    if index.endswith('.HK'):\n",
    "        positions.at[index, 'currency'] = 'HKD'\n",
    "    elif index.endswith('.SI'):\n",
    "        positions.at[index, 'currency'] = 'SGD'\n",
    "    elif index.endswith('.SS'):\n",
    "        positions.at[index, 'currency'] = 'CNY'\n",
    "    \n",
    "    positions.at[index, 'last price'] = sp.get_price(index).iloc[-1]['Adj Close']\n",
    "\n",
    "positions['cur value'] = positions['quantity'] * positions['last price']\n",
    "positions['unreal p&l'] = positions['cur value'] - positions['cost']\n",
    "positions['return'] = positions['unreal p&l'] / positions['cost']\n",
    "positions"
   ]
  },
  {
   "cell_type": "code",
   "execution_count": null,
   "metadata": {},
   "outputs": [],
   "source": []
  }
 ],
 "metadata": {
  "kernelspec": {
   "display_name": "Python 3 (ipykernel)",
   "language": "python",
   "name": "python3"
  },
  "language_info": {
   "codemirror_mode": {
    "name": "ipython",
    "version": 3
   },
   "file_extension": ".py",
   "mimetype": "text/x-python",
   "name": "python",
   "nbconvert_exporter": "python",
   "pygments_lexer": "ipython3",
   "version": "3.9.12"
  }
 },
 "nbformat": 4,
 "nbformat_minor": 4
}
