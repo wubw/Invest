{
 "cells": [
  {
   "cell_type": "code",
   "execution_count": null,
   "id": "7d8a4efd",
   "metadata": {},
   "outputs": [],
   "source": [
    "pip install yahoo_fin"
   ]
  },
  {
   "cell_type": "code",
   "execution_count": null,
   "id": "bf6a885d",
   "metadata": {},
   "outputs": [],
   "source": [
    "from yahoo_fin.stock_info import get_data\n",
    "amazon_daily= get_data(\"amzn\", start_date=\"12/04/2009\", end_date=\"12/04/2019\", index_as_date = True, interval=\"1d\")\n",
    "amazon_daily"
   ]
  },
  {
   "cell_type": "code",
   "execution_count": null,
   "id": "ccbb8760",
   "metadata": {},
   "outputs": [],
   "source": [
    "import yahoo_fin.stock_info as si\n",
    "dow_list = si.tickers_dow()\n",
    "dow_list"
   ]
  },
  {
   "cell_type": "code",
   "execution_count": null,
   "id": "588ff416",
   "metadata": {},
   "outputs": [],
   "source": [
    "quote_table = si.get_quote_table(\"aapl\", dict_result=False)\n",
    "quote_table"
   ]
  },
  {
   "cell_type": "code",
   "execution_count": null,
   "id": "76252168",
   "metadata": {},
   "outputs": [],
   "source": [
    "si.get_stats_valuation(\"aapl\")"
   ]
  },
  {
   "cell_type": "code",
   "execution_count": null,
   "id": "f341039c",
   "metadata": {},
   "outputs": [],
   "source": [
    "val = si.get_stats_valuation(\"aapl\")\n",
    "val"
   ]
  },
  {
   "cell_type": "code",
   "execution_count": null,
   "id": "4afbc114",
   "metadata": {},
   "outputs": [],
   "source": [
    "si.get_income_statement(\"aapl\")"
   ]
  },
  {
   "cell_type": "code",
   "execution_count": null,
   "id": "2e941b41",
   "metadata": {},
   "outputs": [],
   "source": [
    "si.get_balance_sheet(\"aapl\")"
   ]
  },
  {
   "cell_type": "code",
   "execution_count": null,
   "id": "7a6ea54f",
   "metadata": {},
   "outputs": [],
   "source": [
    "si.get_cash_flow(\"aapl\")"
   ]
  },
  {
   "cell_type": "code",
   "execution_count": null,
   "id": "9e27f536",
   "metadata": {},
   "outputs": [],
   "source": []
  }
 ],
 "metadata": {
  "kernelspec": {
   "display_name": "Python 3 (ipykernel)",
   "language": "python",
   "name": "python3"
  },
  "language_info": {
   "codemirror_mode": {
    "name": "ipython",
    "version": 3
   },
   "file_extension": ".py",
   "mimetype": "text/x-python",
   "name": "python",
   "nbconvert_exporter": "python",
   "pygments_lexer": "ipython3",
   "version": "3.9.12"
  }
 },
 "nbformat": 4,
 "nbformat_minor": 5
}
