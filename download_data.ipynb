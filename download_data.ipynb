{
 "cells": [
  {
   "cell_type": "code",
   "execution_count": 1,
   "metadata": {},
   "outputs": [
    {
     "name": "stdout",
     "output_type": "stream",
     "text": [
      "Requirement already satisfied: pandas_datareader in d:\\apps\\anaconda3\\lib\\site-packages (0.10.0)\n",
      "Requirement already satisfied: pandas>=0.23 in d:\\apps\\anaconda3\\lib\\site-packages (from pandas_datareader) (1.4.2)\n",
      "Requirement already satisfied: requests>=2.19.0 in d:\\apps\\anaconda3\\lib\\site-packages (from pandas_datareader) (2.27.1)\n",
      "Requirement already satisfied: lxml in d:\\apps\\anaconda3\\lib\\site-packages (from pandas_datareader) (4.8.0)\n",
      "Requirement already satisfied: pytz>=2020.1 in d:\\apps\\anaconda3\\lib\\site-packages (from pandas>=0.23->pandas_datareader) (2021.3)\n",
      "Requirement already satisfied: python-dateutil>=2.8.1 in d:\\apps\\anaconda3\\lib\\site-packages (from pandas>=0.23->pandas_datareader) (2.8.2)\n",
      "Requirement already satisfied: numpy>=1.18.5 in d:\\apps\\anaconda3\\lib\\site-packages (from pandas>=0.23->pandas_datareader) (1.21.5)\n",
      "Requirement already satisfied: urllib3<1.27,>=1.21.1 in d:\\apps\\anaconda3\\lib\\site-packages (from requests>=2.19.0->pandas_datareader) (1.26.9)\n",
      "Requirement already satisfied: certifi>=2017.4.17 in d:\\apps\\anaconda3\\lib\\site-packages (from requests>=2.19.0->pandas_datareader) (2021.10.8)\n",
      "Requirement already satisfied: idna<4,>=2.5 in d:\\apps\\anaconda3\\lib\\site-packages (from requests>=2.19.0->pandas_datareader) (3.3)\n",
      "Requirement already satisfied: charset-normalizer~=2.0.0 in d:\\apps\\anaconda3\\lib\\site-packages (from requests>=2.19.0->pandas_datareader) (2.0.4)\n",
      "Requirement already satisfied: six>=1.5 in d:\\apps\\anaconda3\\lib\\site-packages (from python-dateutil>=2.8.1->pandas>=0.23->pandas_datareader) (1.16.0)\n",
      "\n",
      "[notice] A new release of pip available: 22.1.2 -> 22.2.2\n",
      "[notice] To update, run: python.exe -m pip install --upgrade pip\n",
      "Note: you may need to restart the kernel to use updated packages.\n"
     ]
    }
   ],
   "source": [
    "pip install pandas_datareader"
   ]
  },
  {
   "cell_type": "code",
   "execution_count": 4,
   "metadata": {},
   "outputs": [
    {
     "name": "stdout",
     "output_type": "stream",
     "text": [
      "The autoreload extension is already loaded. To reload it, use:\n",
      "  %reload_ext autoreload\n"
     ]
    },
    {
     "data": {
      "text/plain": [
       "37"
      ]
     },
     "execution_count": 4,
     "metadata": {},
     "output_type": "execute_result"
    }
   ],
   "source": [
    "%load_ext autoreload\n",
    "%autoreload 2\n",
    "\n",
    "#from portfolio import stickers\n",
    "\n",
    "stickers = [\n",
    "    '0700.HK',\n",
    "    '1299.HK',\n",
    "    '1398.HK',\n",
    "    '2318.HK',\n",
    "    '3988.HK',\n",
    "    '9618.HK',\n",
    "    '9988.HK',\n",
    "    '510310.SS',\n",
    "    'AAPL',\n",
    "    'AJBU.SI',\n",
    "    'AMZN',\n",
    "    'ARKF',\n",
    "    'ARKG',\n",
    "    'ARKK',\n",
    "    'ARKQ',\n",
    "    'ARKW',\n",
    "    'BABA',\n",
    "    'C2PU.SI',\n",
    "    'C38U.SI',\n",
    "    'CQQQ',\n",
    "    'D05.SI',\n",
    "    'EDU',\n",
    "    'GOOG',\n",
    "    'J69U.SI',\n",
    "    'M44U.SI',\n",
    "    'ME8U.SI',\n",
    "    'META',\n",
    "    'MSFT',\n",
    "    'NVDA',\n",
    "    'PRNT',\n",
    "    'PYPL',\n",
    "    'QQQ',\n",
    "    'SOXX',\n",
    "    'SPY',\n",
    "    'TSLA',\n",
    "    'U',\n",
    "    'XLV'\n",
    "]\n",
    "len(stickers)"
   ]
  },
  {
   "cell_type": "code",
   "execution_count": 5,
   "metadata": {},
   "outputs": [
    {
     "name": "stdout",
     "output_type": "stream",
     "text": [
      "0700.HK\n",
      "1299.HK\n",
      "1398.HK\n",
      "2318.HK\n",
      "3988.HK\n",
      "9618.HK\n",
      "9988.HK\n",
      "510310.SS\n",
      "AAPL\n",
      "AJBU.SI\n",
      "AMZN\n",
      "ARKF\n",
      "ARKG\n",
      "ARKK\n",
      "ARKQ\n",
      "ARKW\n",
      "BABA\n",
      "C2PU.SI\n",
      "C38U.SI\n",
      "CQQQ\n",
      "D05.SI\n",
      "EDU\n",
      "GOOG\n",
      "J69U.SI\n",
      "M44U.SI\n",
      "ME8U.SI\n",
      "META\n",
      "MSFT\n",
      "NVDA\n",
      "PRNT\n",
      "PYPL\n",
      "QQQ\n",
      "SOXX\n",
      "SPY\n",
      "TSLA\n",
      "U\n",
      "XLV\n"
     ]
    }
   ],
   "source": [
    "from pandas_datareader import data as wb\n",
    "import os\n",
    "\n",
    "for s in stickers:\n",
    "    print(s)\n",
    "    d = wb.DataReader(s, data_source='yahoo', start='1997-1-1')\n",
    "    file_path = os.path.join('data', s+'.csv')\n",
    "    d.to_csv(file_path)"
   ]
  },
  {
   "cell_type": "code",
   "execution_count": null,
   "metadata": {},
   "outputs": [],
   "source": []
  }
 ],
 "metadata": {
  "kernelspec": {
   "display_name": "Python 3 (ipykernel)",
   "language": "python",
   "name": "python3"
  },
  "language_info": {
   "codemirror_mode": {
    "name": "ipython",
    "version": 3
   },
   "file_extension": ".py",
   "mimetype": "text/x-python",
   "name": "python",
   "nbconvert_exporter": "python",
   "pygments_lexer": "ipython3",
   "version": "3.9.12"
  }
 },
 "nbformat": 4,
 "nbformat_minor": 4
}
