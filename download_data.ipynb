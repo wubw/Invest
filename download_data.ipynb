{
 "cells": [
  {
   "cell_type": "code",
   "execution_count": 4,
   "metadata": {},
   "outputs": [
    {
     "name": "stdout",
     "output_type": "stream",
     "text": [
      "Requirement already satisfied: pandas_datareader in /Users/wubinwei/anaconda3/lib/python3.8/site-packages (0.9.0)\n",
      "Requirement already satisfied: pandas>=0.23 in /Users/wubinwei/anaconda3/lib/python3.8/site-packages (from pandas_datareader) (1.1.3)\n",
      "Requirement already satisfied: requests>=2.19.0 in /Users/wubinwei/anaconda3/lib/python3.8/site-packages (from pandas_datareader) (2.24.0)\n",
      "Requirement already satisfied: lxml in /Users/wubinwei/anaconda3/lib/python3.8/site-packages (from pandas_datareader) (4.5.2)\n",
      "Requirement already satisfied: python-dateutil>=2.7.3 in /Users/wubinwei/anaconda3/lib/python3.8/site-packages (from pandas>=0.23->pandas_datareader) (2.8.1)\n",
      "Requirement already satisfied: pytz>=2017.2 in /Users/wubinwei/anaconda3/lib/python3.8/site-packages (from pandas>=0.23->pandas_datareader) (2020.1)\n",
      "Requirement already satisfied: numpy>=1.15.4 in /Users/wubinwei/anaconda3/lib/python3.8/site-packages (from pandas>=0.23->pandas_datareader) (1.19.2)\n",
      "Requirement already satisfied: idna<3,>=2.5 in /Users/wubinwei/anaconda3/lib/python3.8/site-packages (from requests>=2.19.0->pandas_datareader) (2.10)\n",
      "Requirement already satisfied: certifi>=2017.4.17 in /Users/wubinwei/anaconda3/lib/python3.8/site-packages (from requests>=2.19.0->pandas_datareader) (2020.6.20)\n",
      "Requirement already satisfied: urllib3!=1.25.0,!=1.25.1,<1.26,>=1.21.1 in /Users/wubinwei/anaconda3/lib/python3.8/site-packages (from requests>=2.19.0->pandas_datareader) (1.25.10)\n",
      "Requirement already satisfied: chardet<4,>=3.0.2 in /Users/wubinwei/anaconda3/lib/python3.8/site-packages (from requests>=2.19.0->pandas_datareader) (3.0.4)\n",
      "Requirement already satisfied: six>=1.5 in /Users/wubinwei/anaconda3/lib/python3.8/site-packages (from python-dateutil>=2.7.3->pandas>=0.23->pandas_datareader) (1.15.0)\n",
      "Note: you may need to restart the kernel to use updated packages.\n"
     ]
    }
   ],
   "source": [
    "pip install pandas_datareader"
   ]
  },
  {
   "cell_type": "code",
   "execution_count": 1,
   "metadata": {},
   "outputs": [
    {
     "data": {
      "text/plain": [
       "['D05.SI',\n",
       " 'ME8U.SI',\n",
       " 'AJBU.SI',\n",
       " 'C2PU.SI',\n",
       " 'BABA',\n",
       " 'MSFT',\n",
       " 'AAPL',\n",
       " 'NVDA',\n",
       " 'SPY',\n",
       " 'ARKK',\n",
       " 'ARKW',\n",
       " 'QQQ',\n",
       " 'ARKG',\n",
       " 'ARKQ',\n",
       " 'ARKF',\n",
       " 'GOOG',\n",
       " 'AMZN',\n",
       " 'TCEHY']"
      ]
     },
     "execution_count": 1,
     "metadata": {},
     "output_type": "execute_result"
    }
   ],
   "source": [
    "from invest_data import stickers\n",
    "stickers"
   ]
  },
  {
   "cell_type": "code",
   "execution_count": 2,
   "metadata": {},
   "outputs": [],
   "source": [
    "from pandas_datareader import data as wb\n",
    "import os\n",
    "\n",
    "for s in stickers:\n",
    "    d = wb.DataReader(s, data_source='yahoo', start='1997-1-1')\n",
    "    file_path = os.path.join('data', s+'.csv')\n",
    "    d.to_csv(file_path)"
   ]
  },
  {
   "cell_type": "code",
   "execution_count": null,
   "metadata": {},
   "outputs": [],
   "source": []
  }
 ],
 "metadata": {
  "kernelspec": {
   "display_name": "Python 3",
   "language": "python",
   "name": "python3"
  },
  "language_info": {
   "codemirror_mode": {
    "name": "ipython",
    "version": 3
   },
   "file_extension": ".py",
   "mimetype": "text/x-python",
   "name": "python",
   "nbconvert_exporter": "python",
   "pygments_lexer": "ipython3",
   "version": "3.8.6"
  }
 },
 "nbformat": 4,
 "nbformat_minor": 4
}
