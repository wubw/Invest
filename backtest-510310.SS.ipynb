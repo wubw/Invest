{
 "cells": [
  {
   "cell_type": "code",
   "execution_count": null,
   "id": "8ad567eb",
   "metadata": {},
   "outputs": [],
   "source": [
    "import os\n",
    "import pandas as pd\n",
    "\n",
    "df = pd.read_csv('data/510310.SS.csv')\n",
    "\n",
    "df"
   ]
  },
  {
   "cell_type": "code",
   "execution_count": null,
   "id": "ce5761b0",
   "metadata": {},
   "outputs": [],
   "source": [
    "df_once_per_week = df[(df.index%5)==0]\n",
    "\n",
    "df_once_per_week"
   ]
  },
  {
   "cell_type": "code",
   "execution_count": null,
   "id": "e25708ca",
   "metadata": {},
   "outputs": [],
   "source": [
    "# fix strategy\n",
    "import math\n",
    "\n",
    "monthly_invest_amount = 10000\n",
    "df_once_per_week['Fix Buy Amount'] = monthly_invest_amount / df_once_per_week['Adj Close']\n",
    "for index, row in df_once_per_week.iterrows():\n",
    "    fba = row['Fix Buy Amount']\n",
    "    if fba % 100 != 0:\n",
    "        df_once_per_week.loc[index, 'Fix Buy Amount'] = (math.floor(fba/100) + 1)*100\n",
    "\n",
    "df_once_per_week['Fix Cost'] = df_once_per_week['Fix Buy Amount']*df_once_per_week['Adj Close']\n",
    "        \n",
    "df_once_per_week"
   ]
  },
  {
   "cell_type": "code",
   "execution_count": null,
   "id": "b7e89ba7",
   "metadata": {},
   "outputs": [],
   "source": [
    "# fix strategy return\n",
    "sum_cost = df_once_per_week['Fix Cost'].sum()\n",
    "print(sum_cost)\n",
    "sum_position = df_once_per_week['Fix Buy Amount'].sum()\n",
    "print(sum_position)\n",
    "ret = sum_position*df.iloc[-1]['Adj Close'] - sum_cost\n",
    "print(ret)\n",
    "print(ret/sum_cost)\n",
    "an_ret = (1+ret/sum_cost)**(1/9.5)-1 \n",
    "print(an_ret)"
   ]
  },
  {
   "cell_type": "code",
   "execution_count": null,
   "id": "7069ed4e",
   "metadata": {},
   "outputs": [],
   "source": [
    "# fine tuning strategy return\n",
    "price_map = {\n",
    "    2.9:0,\n",
    "    2.8:0,\n",
    "    2.7:0,\n",
    "    2.6:0,\n",
    "    2.5:0,\n",
    "    2.4:0,\n",
    "    2.3:0,\n",
    "    2.2:0,\n",
    "    2.1:9000,\n",
    "    2.0:9500,\n",
    "    1.9:10000,\n",
    "    1.8:10500,\n",
    "    1.7:11000,\n",
    "    1.6:11500,\n",
    "    1.5:12000,\n",
    "    1.4:12000,\n",
    "    1.3:12000,\n",
    "    1.2:12000,\n",
    "    1.1:12000,\n",
    "    1.0:12000,\n",
    "    0.9:12000,\n",
    "    0.8:12000\n",
    "}\n",
    "df_once_per_week['FT Buy Amount'] = 0\n",
    "for index, row in df_once_per_week.iterrows():\n",
    "    close = math.floor(row['Adj Close'] * 10)/10.0\n",
    "    invest_amount = price_map[close]\n",
    "    buy_amount = invest_amount/row['Adj Close']\n",
    "    if buy_amount % 100 != 0:\n",
    "        buy_amount = (math.floor(buy_amount/100) + 1)*100\n",
    "    df_once_per_week.loc[index, 'FT Buy Amount'] = buy_amount\n",
    "\n",
    "df_once_per_week['FT Cost'] = df_once_per_week['FT Buy Amount']*df_once_per_week['Adj Close']\n",
    "\n",
    "df_once_per_week   "
   ]
  },
  {
   "cell_type": "code",
   "execution_count": null,
   "id": "01c60369",
   "metadata": {},
   "outputs": [],
   "source": [
    "# fine-tunning strategy return\n",
    "sum_cost = df_once_per_week['FT Cost'].sum()\n",
    "print(sum_cost)\n",
    "sum_position = df_once_per_week['FT Buy Amount'].sum()\n",
    "print(sum_position)\n",
    "ret = sum_position*df.iloc[-1]['Adj Close'] - sum_cost\n",
    "print(ret)\n",
    "print(ret/sum_cost)\n",
    "an_ret = (1+ret/sum_cost)**(1/9.5)-1 \n",
    "print(an_ret)"
   ]
  },
  {
   "cell_type": "code",
   "execution_count": null,
   "id": "ec6971a2",
   "metadata": {},
   "outputs": [],
   "source": []
  }
 ],
 "metadata": {
  "kernelspec": {
   "display_name": "Python 3 (ipykernel)",
   "language": "python",
   "name": "python3"
  },
  "language_info": {
   "codemirror_mode": {
    "name": "ipython",
    "version": 3
   },
   "file_extension": ".py",
   "mimetype": "text/x-python",
   "name": "python",
   "nbconvert_exporter": "python",
   "pygments_lexer": "ipython3",
   "version": "3.9.12"
  }
 },
 "nbformat": 4,
 "nbformat_minor": 5
}
